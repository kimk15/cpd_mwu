{
 "cells": [
  {
   "cell_type": "code",
   "execution_count": 45,
   "metadata": {},
   "outputs": [],
   "source": [
    "import numpy as np\n",
    "from numpy.linalg import norm\n",
    "\n",
    "def congruence(x, y):\n",
    "\treturn np.dot(x,y)/(norm(x)*norm(y))\n"
   ]
  },
  {
   "cell_type": "code",
   "execution_count": 21,
   "metadata": {},
   "outputs": [],
   "source": [
    "def generate_F(size, congruence):\n",
    "\t# Fill an array with congruence\n",
    "\tA = np.ones(size) * congruence\n",
    "    \n",
    "\n",
    "\t# Fill with one\n",
    "\tnp.fill_diagonal(A, 1)\n",
    "\n",
    "\t# Compute choelesky decomposition\n",
    "\tF = np.linalg.cholesky(A)\n",
    "\n",
    "\treturn F.T"
   ]
  },
  {
   "cell_type": "code",
   "execution_count": 8,
   "metadata": {},
   "outputs": [],
   "source": [
    "def generate_P(size):\n",
    "\t# Sample from standard normal distribution\n",
    "\tP = np.random.standard_normal(size)\n",
    "\n",
    "\t# Orthnormalize columns\n",
    "\tQ, _ = np.linalg.qr(np.random.standard_normal(size))\n",
    "\n",
    "\treturn Q"
   ]
  },
  {
   "cell_type": "code",
   "execution_count": 66,
   "metadata": {},
   "outputs": [],
   "source": [
    "\"\"\"\n",
    "Generates a matrix state\n",
    "\"\"\"\n",
    "def createCollinearMatrix(I,R,congruence):\n",
    "    # Generate F matrix using cholesky\n",
    "    F = generate_F((R,R), congruence)\n",
    "\n",
    "    # Generate P\n",
    "    P = generate_P((I, R))\n",
    "\n",
    "    return P @ F"
   ]
  },
  {
   "cell_type": "code",
   "execution_count": 67,
   "metadata": {},
   "outputs": [],
   "source": [
    "rows = 100\n",
    "R = 5\n",
    "c = .99\n",
    "C = createCollinearMatrix(rows,R, c)"
   ]
  },
  {
   "cell_type": "code",
   "execution_count": 68,
   "metadata": {},
   "outputs": [
    {
     "name": "stdout",
     "output_type": "stream",
     "text": [
      "0.99\n",
      "0.99\n",
      "0.9899999999999999\n",
      "0.9899999999999999\n",
      "0.99\n",
      "0.9899999999999999\n",
      "0.9899999999999999\n",
      "0.99\n",
      "0.99\n",
      "0.9899999999999999\n",
      "0.9899999999999999\n",
      "0.99\n",
      "0.9899999999999999\n",
      "0.9899999999999999\n",
      "0.9899999999999999\n",
      "0.9899999999999998\n",
      "0.9899999999999999\n",
      "0.99\n",
      "0.99\n",
      "0.9899999999999998\n"
     ]
    },
    {
     "data": {
      "text/plain": [
       "True"
      ]
     },
     "execution_count": 68,
     "metadata": {},
     "output_type": "execute_result"
    }
   ],
   "source": [
    "matched_congruence(C, c)"
   ]
  },
  {
   "cell_type": "code",
   "execution_count": null,
   "metadata": {},
   "outputs": [],
   "source": []
  }
 ],
 "metadata": {
  "kernelspec": {
   "display_name": "Python 3",
   "language": "python",
   "name": "python3"
  },
  "language_info": {
   "codemirror_mode": {
    "name": "ipython",
    "version": 3
   },
   "file_extension": ".py",
   "mimetype": "text/x-python",
   "name": "python",
   "nbconvert_exporter": "python",
   "pygments_lexer": "ipython3",
   "version": "3.7.3"
  }
 },
 "nbformat": 4,
 "nbformat_minor": 2
}
