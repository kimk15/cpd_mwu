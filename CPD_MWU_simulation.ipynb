{
 "cells": [
  {
   "cell_type": "code",
   "execution_count": 8,
   "metadata": {},
   "outputs": [],
   "source": [
    "%reload_ext autoreload\n",
    "%autoreload 2\n",
    "\n",
    "import matplotlib.pyplot as plt\n",
    "import tensorly.random as tl_rand\n",
    "import tensorly.kruskal_tensor as tl_kruskal\n",
    "import numpy as np\n",
    "\n",
    "from timeit import default_timer as timer\n",
    "from cpd_mwu import CPD_MWU\n",
    "from data_gen import generate_collinear_factors\n"
   ]
  },
  {
   "cell_type": "code",
   "execution_count": 25,
   "metadata": {},
   "outputs": [],
   "source": [
    "# Set up\n",
    "congruence = 0.9\n",
    "lamb = 0.001\n",
    "shape = (300,300,300)\n",
    "nu = 2\n",
    "rank = 20\n",
    "num_iterations = 100000\n",
    "eps = 1/num_iterations\n",
    "\n",
    "# Sketching rates\n",
    "sketching_rates = list(np.linspace(10**(-3), 10**(-1), 4)) + [1]\n",
    "\n",
    "# Generate random latent factors\n",
    "F = np.array(tl_rand.random_kruskal(shape=shape, rank=rank, full=False, random_state=np.random.RandomState(seed=0)))\n",
    "X = tl_kruskal.kruskal_to_tensor(F)\n",
    "\n",
    "# Generate ill conditioned factors\n",
    "F_ill = generate_collinear_factors(shape, rank, congruence)\n",
    "X_ill = tl_kruskal.kruskal_to_tensor(F_ill)"
   ]
  },
  {
   "cell_type": "code",
   "execution_count": null,
   "metadata": {},
   "outputs": [],
   "source": [
    "# Set up\n",
    "lamb = 0.001\n",
    "shape = (300,300,300)\n",
    "nu = 2\n",
    "rank = 100\n",
    "num_iterations = 100000\n",
    "eps = 1/num_iterations\n",
    "\n",
    "# Sketching rates\n",
    "sketching_rates = list(np.linspace(10**(-3), 10**(-1), 4)) + [1]\n",
    "\n",
    "# Generate random latent factors\n",
    "F = np.array(tl_rand.random_kruskal(shape=shape, rank=rank, full=False, random_state=np.random.RandomState(seed=0)))\n",
    "X = tl_kruskal.kruskal_to_tensor(F)\n",
    "\n",
    "# CPD_MWU\n",
    "start = timer()\n",
    "A,B,C, error_2, res_time = CPD_MWU(X, F, sketching_rates, lamb, eps, nu, rank, num_iterations)\n",
    "end = timer()\n",
    "\n",
    "print(res_time)\n",
    "print(end-start-res_time)"
   ]
  },
  {
   "cell_type": "code",
   "execution_count": null,
   "metadata": {},
   "outputs": [],
   "source": []
  }
 ],
 "metadata": {
  "kernelspec": {
   "display_name": "Python 3",
   "language": "python",
   "name": "python3"
  },
  "language_info": {
   "codemirror_mode": {
    "name": "ipython",
    "version": 3
   },
   "file_extension": ".py",
   "mimetype": "text/x-python",
   "name": "python",
   "nbconvert_exporter": "python",
   "pygments_lexer": "ipython3",
   "version": "3.7.3"
  }
 },
 "nbformat": 4,
 "nbformat_minor": 2
}
