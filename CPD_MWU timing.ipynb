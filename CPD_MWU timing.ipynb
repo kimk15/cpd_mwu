{
 "cells": [
  {
   "cell_type": "code",
   "execution_count": 45,
   "metadata": {},
   "outputs": [],
   "source": [
    "%reload_ext autoreload\n",
    "%autoreload 2\n",
    "import matplotlib.pyplot as plt\n",
    "import tensorly.kruskal_tensor as tl_kruskal\n",
    "import tensorly.random as tl_rand\n",
    "import numpy as np\n",
    "import statistics\n",
    "from timeit import default_timer as timer\n",
    "\n",
    "from cpd_mwu import CPD_MWU"
   ]
  },
  {
   "cell_type": "code",
   "execution_count": 48,
   "metadata": {},
   "outputs": [],
   "source": [
    "norm_time = []\n",
    "id_time = []\n",
    "uf_time = []\n",
    "w_time = []\n",
    "rand_time = []\n",
    "\n",
    "sketching_rates = list(np.linspace(10**(-3), 10**(-1), 4)) + [1]\n",
    "\n",
    "for i in range(100):\n",
    "    # Generate random latent factors\n",
    "    F = np.array(tl_rand.random_kruskal(shape=shape, rank=rank, full=False, random_state=np.random.RandomState(seed=i)))\n",
    "    X = tl_kruskal.kruskal_to_tensor(F)\n",
    "\n",
    "    # Time norm\n",
    "    start = timer()\n",
    "    norm_x = norm(X)\n",
    "    end = timer()\n",
    "    norm_time.append(end-start)\n",
    "\n",
    "    # Time ID\n",
    "    start = timer()\n",
    "    y = np.eye(rank)\n",
    "    end = timer()\n",
    "    id_time.append(end-start)\n",
    "\n",
    "    # Time unfolding\n",
    "    start = timer()\n",
    "    X_unfold = [unfold(X, mode=0), unfold(X, mode=1), unfold(X, mode=2)]\n",
    "    end = timer()\n",
    "    uf_time.append(end-start)\n",
    "\n",
    "    # Time initialization of weights\n",
    "    start = timer()\n",
    "    weights = np.array([1] * len(sketching_rates)) / (len(sketching_rates))\n",
    "    end = timer()\n",
    "    w_time.append(end - start)\n",
    "\n",
    "    # Time random initialization of factor matrices\n",
    "    start = timer()\n",
    "    dim_1, dim_2, dim_3 = X.shape\n",
    "    A, B, C = rand_init(dim_1, rank), rand_init(dim_2, rank), rand_init(dim_3, rank)   \n",
    "    end = timer()\n",
    "    rand_time.append(end - start)\n",
    "    \n",
    "    \n",
    "    \n",
    "mean_norm = statistics.mean(norm_time)\n",
    "var_norm = statistics.variance(norm_time)\n",
    "\n",
    "mean_id = statistics.mean(id_time)\n",
    "var_id = statistics.variance(id_time)\n",
    "\n",
    "mean_uf = statistics.mean(uf_time)\n",
    "var_uf = statistics.variance(uf_time)\n",
    "\n",
    "mean_w = statistics.mean(w_time)\n",
    "var_w = statistics.variance(w_time)\n",
    "\n",
    "mean_rand = statistics.mean(rand_time)\n",
    "var_rand = statistics.variance(rand_time)"
   ]
  },
  {
   "cell_type": "code",
   "execution_count": 49,
   "metadata": {},
   "outputs": [
    {
     "name": "stdout",
     "output_type": "stream",
     "text": [
      "[0.007991203190285887, 2.4966420060081873e-05, 0.13720415555955698, 4.426566003530752e-05, 7.220168990897946e-05]\n",
      "0.14533679251984724\n"
     ]
    },
    {
     "data": {
      "image/png": "[encoded data removed]",
      "text/plain": [
       "<Figure size 432x288 with 1 Axes>"
      ]
     },
     "metadata": {
      "needs_background": "light"
     },
     "output_type": "display_data"
    }
   ],
   "source": [
    "x = ['norm', 'id', 'unfold', 'weights', 'rand_init']\n",
    "y = [mean_norm, mean_id, mean_uf, mean_w, mean_rand]\n",
    "var = [var_norm, var_id, var_uf, var_w, var_rand]\n",
    "plt.ylabel('secs')\n",
    "plt.title('Average timing for each function over 100 runs')\n",
    "plt.errorbar(x,y, var,linestyle='None', marker='^')\n",
    "\n",
    "print(y)\n",
    "print(sum(y))"
   ]
  },
  {
   "cell_type": "code",
   "execution_count": 55,
   "metadata": {},
   "outputs": [],
   "source": [
    "from helper import generate_sketch_indices\n",
    "import tensorly.tenalg as tl_alg\n",
    "from numpy.linalg import pinv, norm\n",
    "\n",
    "F = np.array(tl_rand.random_kruskal(shape=shape, rank=rank, full=False, random_state=np.random.RandomState(seed=i)))\n",
    "X = tl_kruskal.kruskal_to_tensor(F)\n",
    "X_unfold = [unfold(X, mode=0), unfold(X, mode=1), unfold(X, mode=2)]\n",
    "Id = np.eye(rank)\n",
    "\n",
    "# Set up\n",
    "lamb = 0.001\n",
    "shape = (300,300,300)\n",
    "nu = 2\n",
    "rank = 5  \n",
    "num_iterations = 100\n",
    "\n",
    "A_sketch_time = []\n",
    "AM_time = []\n",
    "A_time = []\n",
    "\n",
    "B_sketch_time = []\n",
    "BM_time = []\n",
    "B_time = []\n",
    "\n",
    "C_sketch_time = []\n",
    "CM_time = []\n",
    "C_time = []\n",
    "\n",
    "for i in range(100):\n",
    "    s = sample(sketching_rates, weights)\n",
    "    # Update A\n",
    "    start = timer()\n",
    "    dim_1, dim_2 = X_unfold[0].shape\n",
    "    idx = generate_sketch_indices(s, dim_2)\n",
    "    end = timer()\n",
    "    A_sketch_time.append(end-start)\n",
    "\n",
    "    start = timer()\n",
    "    M = (tl_alg.khatri_rao([A, B, C], skip_matrix=0).T)[:, idx]\n",
    "    end = timer()\n",
    "    AM_time.append(end-start)\n",
    "\n",
    "    start = timer()\n",
    "    A = (lamb * A + X_unfold[0][:, idx] @ M.T) @ pinv(M @ M.T + lamb * Id)\n",
    "    end = timer()\n",
    "    A_time.append(end-start)\n",
    "\n",
    "    # Update B\n",
    "    start = timer()\n",
    "    dim_1, dim_2 = X_unfold[1].shape\n",
    "    idx = generate_sketch_indices(s, dim_2)\n",
    "    end = timer()\n",
    "    B_sketch_time.append(end-start)\n",
    "\n",
    "    start = timer()\n",
    "    M = (tl_alg.khatri_rao([A, B, C], skip_matrix=1).T)[:, idx]\n",
    "    end = timer()\n",
    "    BM_time.append(end-start)\n",
    "\n",
    "    start = timer()\n",
    "    B = (lamb * B + X_unfold[1][:, idx] @ M.T) @ pinv(M @ M.T + lamb * Id)\n",
    "    end = timer()\n",
    "    B_time.append(end-start)\n",
    "\n",
    "    # Update C\n",
    "    start = timer()\n",
    "    dim_1, dim_2 = X_unfold[2].shape\n",
    "    idx = generate_sketch_indices(s, dim_2)\n",
    "    end = timer()\n",
    "    C_sketch_time.append(end-start)\n",
    "\n",
    "    start = timer()\n",
    "    M = (tl_alg.khatri_rao([A, B, C], skip_matrix=2).T)[:, idx]\n",
    "    end = timer()\n",
    "    CM_time.append(end-start)\n",
    "\n",
    "    start = timer()\n",
    "    C = (lamb * C + X_unfold[2][:, idx] @ M.T) @ pinv(M @ M.T + lamb * Id)\n",
    "    end = timer()\n",
    "    C_time.append(end-start)\n",
    "\n",
    "\n",
    "# Compute for A  \n",
    "mean_A_sketch = statistics.mean(A_sketch_time)\n",
    "var_A_sketch = statistics.variance(A_sketch_time)\n",
    "\n",
    "mean_AM = statistics.mean(AM_time)\n",
    "var_AM = statistics.variance(AM_time)\n",
    "\n",
    "mean_A = statistics.mean(A_time)\n",
    "var_A = statistics.variance(A_time)\n",
    "\n",
    "# Compute for B  \n",
    "mean_B_sketch = statistics.mean(B_sketch_time)\n",
    "var_B_sketch = statistics.variance(B_sketch_time)\n",
    "\n",
    "mean_BM = statistics.mean(BM_time)\n",
    "var_BM = statistics.variance(BM_time)\n",
    "\n",
    "mean_B = statistics.mean(B_time)\n",
    "var_B = statistics.variance(B_time)\n",
    "\n",
    "# Compute for C  \n",
    "mean_C_sketch = statistics.mean(C_sketch_time)\n",
    "var_C_sketch = statistics.variance(C_sketch_time)\n",
    "\n",
    "mean_CM = statistics.mean(CM_time)\n",
    "var_CM = statistics.variance(CM_time)\n",
    "\n",
    "mean_C = statistics.mean(C_time)\n",
    "var_C = statistics.variance(C_time)"
   ]
  },
  {
   "cell_type": "code",
   "execution_count": 58,
   "metadata": {},
   "outputs": [
    {
     "name": "stdout",
     "output_type": "stream",
     "text": [
      "[0.01645012235996546, 0.0035781593399224223, 0.07974509716015746]\n",
      "0.09977337886004534\n",
      "[0.016170176300111052, 0.0037061691299822997, 0.0797781404500347]\n",
      "0.09965448588012805\n",
      "[0.016419847050347016, 0.0037605147700378438, 0.03601114247001533]\n",
      "0.056191504290400186\n"
     ]
    },
    {
     "data": {
      "image/png": "[encoded data removed]",
      "text/plain": [
       "<Figure size 432x288 with 1 Axes>"
      ]
     },
     "metadata": {
      "needs_background": "light"
     },
     "output_type": "display_data"
    },
    {
     "data": {
      "image/png": "[encoded data removed]",
      "text/plain": [
       "<Figure size 432x288 with 1 Axes>"
      ]
     },
     "metadata": {
      "needs_background": "light"
     },
     "output_type": "display_data"
    },
    {
     "data": {
      "image/png": "[encoded data removed]",
      "text/plain": [
       "<Figure size 432x288 with 1 Axes>"
      ]
     },
     "metadata": {
      "needs_background": "light"
     },
     "output_type": "display_data"
    },
    {
     "data": {
      "text/plain": [
       "<Figure size 432x288 with 0 Axes>"
      ]
     },
     "metadata": {},
     "output_type": "display_data"
    }
   ],
   "source": [
    "x = ['generate_sketch', 'compute M', 'update factor A']\n",
    "y = [mean_A_sketch, mean_AM, mean_A]\n",
    "var = [var_A_sketch, var_AM, var_A]\n",
    "\n",
    "plt.ylabel('secs')\n",
    "plt.title('Average timing for each function over 100 runs')\n",
    "plt.errorbar(x,y, var,linestyle='None', marker='^')\n",
    "plt.figure()\n",
    "\n",
    "print(y)\n",
    "print(sum(y))\n",
    "\n",
    "x = ['generate_sketch', 'compute M', 'update factor B']\n",
    "y = [mean_B_sketch, mean_BM, mean_B]\n",
    "var = [var_B_sketch, var_BM, var_B]\n",
    "\n",
    "plt.ylabel('secs')\n",
    "plt.title('Average timing for each function over 100 runs')\n",
    "plt.errorbar(x,y, var,linestyle='None', marker='^')\n",
    "plt.figure()\n",
    "\n",
    "print(y)\n",
    "print(sum(y))\n",
    "\n",
    "x = ['generate_sketch', 'compute M', 'update factor C']\n",
    "y = [mean_C_sketch, mean_CM, mean_C]\n",
    "var = [var_C_sketch, var_CM, var_C]\n",
    "\n",
    "plt.ylabel('secs')\n",
    "plt.title('Average timing for each function over 100 runs')\n",
    "plt.errorbar(x,y, var,linestyle='None', marker='^')\n",
    "plt.figure()\n",
    "\n",
    "print(y)\n",
    "print(sum(y))"
   ]
  },
  {
   "cell_type": "code",
   "execution_count": 80,
   "metadata": {},
   "outputs": [],
   "source": [
    "k_time = []\n",
    "sub_time = []\n",
    "norm_time = []\n",
    "\n",
    "import tensorly.base as tl_base\n",
    "\n",
    "for i in range(100):\n",
    "    F = np.array(tl_rand.random_kruskal(shape=shape, rank=rank, full=False, random_state=np.random.RandomState(seed=0)))\n",
    "    X = tl_kruskal.kruskal_to_tensor(F)\n",
    "    X_unfold = [tl_base.unfold(X, mode=0)]\n",
    "    \n",
    "    start = timer()\n",
    "    X_bar = A @ (tl_alg.khatri_rao([A, B, C], skip_matrix=0).T)\n",
    "    end = timer()\n",
    "    k_time.append(end-start)\n",
    "\n",
    "    start = timer()\n",
    "    s = X_unfold[0]-X_bar\n",
    "    end = timer()\n",
    "    sub_time.append(end-start)\n",
    "\n",
    "    start = timer()\n",
    "    norm(s)/norm_x\n",
    "    end= timer()\n",
    "    norm_time.append(end-start)\n",
    "    \n",
    "mean_k = statistics.mean(k_time)\n",
    "var_k = statistics.variance(k_time)\n",
    "\n",
    "mean_sub = statistics.mean(sub_time)\n",
    "var_sub = statistics.variance(sub_time)\n",
    "\n",
    "mean_norm = statistics.mean(norm_time)\n",
    "var_norm = statistics.variance(norm_time)"
   ]
  },
  {
   "cell_type": "code",
   "execution_count": 81,
   "metadata": {
    "scrolled": true
   },
   "outputs": [
    {
     "name": "stdout",
     "output_type": "stream",
     "text": [
      "[0.10595275194973511, 0.0757129531600367, 0.00818801943991275]\n",
      "0.18985372454968458\n"
     ]
    },
    {
     "data": {
      "image/png": "[encoded data removed]",
      "text/plain": [
       "<Figure size 432x288 with 1 Axes>"
      ]
     },
     "metadata": {
      "needs_background": "light"
     },
     "output_type": "display_data"
    },
    {
     "data": {
      "text/plain": [
       "<Figure size 432x288 with 0 Axes>"
      ]
     },
     "metadata": {},
     "output_type": "display_data"
    }
   ],
   "source": [
    "x = ['khatri', 'subtract', 'norm']\n",
    "y = [mean_k, mean_sub, mean_norm]\n",
    "var = [var_k, var_sub, var_norm]\n",
    "\n",
    "plt.ylabel('secs')\n",
    "plt.title('Average timing for each function over 100 runs')\n",
    "plt.errorbar(x,y, var,linestyle='None', marker='^')\n",
    "plt.figure()"
   ]
  },
  {
   "cell_type": "code",
   "execution_count": 89,
   "metadata": {},
   "outputs": [
    {
     "name": "stderr",
     "output_type": "stream",
     "text": [
      "C:\\Users\\kkim154\\AppData\\Local\\Continuum\\anaconda3\\lib\\site-packages\\ipykernel_launcher.py:25: RuntimeWarning: invalid value encountered in true_divide\n"
     ]
    }
   ],
   "source": [
    "from helper import residual_error\n",
    "import time\n",
    "t = []\n",
    "\n",
    "# Initialize weights\n",
    "weights = np.array([1] * len(sketching_rates)) / (len(sketching_rates))\n",
    "\n",
    "# Generate random latent factors\n",
    "F = np.array(tl_rand.random_kruskal(shape=shape, rank=rank, full=False, random_state=np.random.RandomState(seed=0)))\n",
    "X = tl_kruskal.kruskal_to_tensor(F)\n",
    "X_unfold = [tl_base.unfold(X, mode=0), tl_base.unfold(X, mode=1), tl_base.unfold(X, mode=2) ]\n",
    "\n",
    "for i in range(100):\n",
    "    star = time.time()\n",
    "    # Randomly initialize A,B,C\n",
    "    dim_1, dim_2, dim_3 = X.shape\n",
    "    A, B, C = rand_init(dim_1, rank), rand_init(dim_2, rank), rand_init(dim_3, rank)\n",
    "    for i, w in enumerate(weights):\n",
    "        start = time.time()\n",
    "        s = sketching_rates[i]\n",
    "        A_new, B_new, C_new = update_factors(A, B, C, X_unfold, Id, lamb, s, rank)\n",
    "        total_time = time.time() - start\n",
    "        weights[i] *= np.exp(-nu/eps*(residual_error(X_unfold[0], norm_x, A_new, B_new, C_new) - residual_error(X_unfold[0], norm_x, A, B, C)) / (total_time))\n",
    "\n",
    "    weights /= sum(weights)\n",
    "    en = time.time()\n",
    "\n",
    "    t.append(en-star)\n",
    "    \n",
    "mean_t = statistics.mean(t)\n",
    "var_t = statistics.variance(t)"
   ]
  },
  {
   "cell_type": "code",
   "execution_count": 90,
   "metadata": {},
   "outputs": [
    {
     "name": "stdout",
     "output_type": "stream",
     "text": [
      "3.3817786741256715\n",
      "0.014038886226079707\n"
     ]
    }
   ],
   "source": [
    "print(mean_t)\n",
    "print(var_t)"
   ]
  },
  {
   "cell_type": "code",
   "execution_count": null,
   "metadata": {},
   "outputs": [],
   "source": []
  }
 ],
 "metadata": {
  "kernelspec": {
   "display_name": "Python 3",
   "language": "python",
   "name": "python3"
  },
  "language_info": {
   "codemirror_mode": {
    "name": "ipython",
    "version": 3
   },
   "file_extension": ".py",
   "mimetype": "text/x-python",
   "name": "python",
   "nbconvert_exporter": "python",
   "pygments_lexer": "ipython3",
   "version": "3.7.3"
  }
 },
 "nbformat": 4,
 "nbformat_minor": 2
}
