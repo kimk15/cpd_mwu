{
 "cells": [
  {
   "cell_type": "code",
   "execution_count": 32,
   "metadata": {},
   "outputs": [],
   "source": [
    "%reload_ext autoreload\n",
    "%autoreload 2\n",
    "import matplotlib.pyplot as plt\n",
    "import tensorly.kruskal_tensor as tl_kruskal\n",
    "import tensorly.random as tl_rand\n",
    "import numpy as np\n",
    "import time\n",
    "\n",
    "from cpd_mwu import CPD_MWU"
   ]
  },
  {
   "cell_type": "code",
   "execution_count": 33,
   "metadata": {},
   "outputs": [],
   "source": [
    "# Set up\n",
    "lamb = 0.001\n",
    "eps = 0.05 # 1/N where N = # interations\n",
    "shape = (300,300,300)\n",
    "nu = 2\n",
    "rank = 5  \n",
    "num_iterations = 400"
   ]
  },
  {
   "cell_type": "code",
   "execution_count": 37,
   "metadata": {},
   "outputs": [
    {
     "name": "stdout",
     "output_type": "stream",
     "text": [
      "updated\n",
      "Total time for 1 iterations: 351.8287847042084\n"
     ]
    }
   ],
   "source": [
    "# Run experiment for sketching with weight update\n",
    "sketching_rates = list(np.linspace(10**(-3), 10**(-1), 4)) + [1]\n",
    "sketch_with_weight_update_error = np.array([0.0] * 401)\n",
    "\n",
    "# Generate random latent factors\n",
    "F = np.array(tl_rand.random_kruskal(shape=shape, rank=rank, full=False, random_state=np.random.RandomState(seed=0)))\n",
    "X = tl_kruskal.kruskal_to_tensor(F)\n",
    "\n",
    "start = time.time()\n",
    "A,B,C, error = CPD_MWU(X, F, sketching_rates, lamb, eps, nu, rank, True, num_iterations)\n",
    "end = time.time()\n",
    "sketch_with_weight_update_error += error\n",
    "    \n",
    "# Print out total time\n",
    "print(\"Total time for 1 iterations:\", end-start)\n"
   ]
  },
  {
   "cell_type": "code",
   "execution_count": 36,
   "metadata": {},
   "outputs": [
    {
     "name": "stdout",
     "output_type": "stream",
     "text": [
      "0.6859835219756316\n"
     ]
    },
    {
     "data": {
      "text/plain": [
       "[<matplotlib.lines.Line2D at 0x225ac1da3c8>]"
      ]
     },
     "execution_count": 36,
     "metadata": {},
     "output_type": "execute_result"
    },
    {
     "data": {
      "image/png": "[encoded data removed]",
      "text/plain": [
       "<Figure size 432x288 with 1 Axes>"
      ]
     },
     "metadata": {
      "needs_background": "light"
     },
     "output_type": "display_data"
    }
   ],
   "source": [
    "print(sketch_with_weight_update_error[0])\n",
    "x = range(num_iterations+1)\n",
    "plt.plot(x, error)"
   ]
  },
  {
   "cell_type": "code",
   "execution_count": 89,
   "metadata": {
    "scrolled": true
   },
   "outputs": [
    {
     "name": "stdout",
     "output_type": "stream",
     "text": [
      "Total time for 5 iterations: 382.2845125198364\n"
     ]
    }
   ],
   "source": [
    "# Run experiment for no sketching\n",
    "no_sketch_error = np.array([0.0] * 101)\n",
    "sketching_rates = [1]\n",
    "start = time.time()\n",
    "\n",
    "for i in range(5):\n",
    "    X = tl_rand.random_kruskal((366,366,100), 5, full=True)\n",
    "    A,B,C, error = CPD_MWU(X, sketching_rates, lamb, eps, nu, rank, True, num_iterations)\n",
    "    no_sketch_error += error\n",
    "\n",
    "# Print out total time\n",
    "print(\"Total time for 5 iterations:\", time.time()-start)\n",
    "\n",
    "# Average out error\n",
    "no_sketch_error /= 5"
   ]
  },
  {
   "cell_type": "code",
   "execution_count": 90,
   "metadata": {},
   "outputs": [
    {
     "name": "stdout",
     "output_type": "stream",
     "text": [
      "Total time for 5 iterations: 183.54183912277222\n"
     ]
    }
   ],
   "source": [
    "# Run experiment for sketching without weight update\n",
    "sketching_rates = list(np.linspace(10**(-3), 10**(-1), 4)) + [1]\n",
    "sketch_no_weight_update_error = np.array([0.0] * 101)\n",
    "start = time.time()\n",
    "\n",
    "for i in range(5):\n",
    "    X = tl_rand.random_kruskal((366,366,100), 5, full=True)\n",
    "    A,B,C, error = CPD_MWU(X, sketching_rates, lamb, eps, nu, rank, False, num_iterations)\n",
    "    sketch_no_weight_update_error += error\n",
    "\n",
    "# Print out total time\n",
    "print(\"Total time for 5 iterations:\", time.time()-start)\n",
    "\n",
    "# Average out error\n",
    "sketch_no_weight_update_error /= 5"
   ]
  },
  {
   "cell_type": "code",
   "execution_count": 91,
   "metadata": {},
   "outputs": [
    {
     "name": "stdout",
     "output_type": "stream",
     "text": [
      "Total time for 5 iterations: 223.0164532661438\n"
     ]
    }
   ],
   "source": [
    "# Run experiment for sketching with weight update\n",
    "sketching_rates = list(np.linspace(10**(-3), 10**(-1), 4)) + [1]\n",
    "sketch_with_weight_update_error = np.array([0.0] * 101)\n",
    "start = time.time()\n",
    "\n",
    "for i in range(5):\n",
    "    X = tl_rand.random_kruskal((366,366,100), 5, full=True)\n",
    "    A,B,C, error = CPD_MWU(X, sketching_rates, lamb, eps, nu, rank, True, num_iterations)\n",
    "    sketch_with_weight_update_error += error\n",
    "    \n",
    "# Print out total time\n",
    "print(\"Total time for 5 iterations:\", time.time()-start)\n",
    "\n",
    "# Average out error\n",
    "sketch_with_weight_update_error /= 5"
   ]
  },
  {
   "cell_type": "code",
   "execution_count": 93,
   "metadata": {
    "scrolled": true
   },
   "outputs": [
    {
     "data": {
      "text/plain": [
       "<Figure size 432x288 with 0 Axes>"
      ]
     },
     "execution_count": 93,
     "metadata": {},
     "output_type": "execute_result"
    },
    {
     "data": {
      "image/png": "[encoded data removed]",
      "text/plain": [
       "<Figure size 432x288 with 1 Axes>"
      ]
     },
     "metadata": {
      "needs_background": "light"
     },
     "output_type": "display_data"
    },
    {
     "data": {
      "text/plain": [
       "<Figure size 432x288 with 0 Axes>"
      ]
     },
     "metadata": {},
     "output_type": "display_data"
    }
   ],
   "source": [
    "# Plot out error\n",
    "x = [i for i in range(len(error))]\n",
    "plt.title('Residual error vs # iterations')\n",
    "plt.xlabel('Iterations')\n",
    "plt.ylabel('Residual Error')\n",
    "plt.plot(x, no_sketch_error, label='No sketch + weight update')\n",
    "plt.plot(x, sketch_no_weight_update_error, label='Sketch + w/o weight update')\n",
    "plt.plot(x, sketch_with_weight_update_error, label='Sketch + weight update')\n",
    "plt.legend(loc=\"upper left\")\n",
    "plt.figure()"
   ]
  }
 ],
 "metadata": {
  "kernelspec": {
   "display_name": "Python 3",
   "language": "python",
   "name": "python3"
  },
  "language_info": {
   "codemirror_mode": {
    "name": "ipython",
    "version": 3
   },
   "file_extension": ".py",
   "mimetype": "text/x-python",
   "name": "python",
   "nbconvert_exporter": "python",
   "pygments_lexer": "ipython3",
   "version": "3.7.3"
  }
 },
 "nbformat": 4,
 "nbformat_minor": 2
}
