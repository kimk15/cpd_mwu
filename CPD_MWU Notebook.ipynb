{
 "cells": [
  {
   "cell_type": "code",
   "execution_count": 1,
   "metadata": {},
   "outputs": [
    {
     "name": "stderr",
     "output_type": "stream",
     "text": [
      "Using numpy backend.\n"
     ]
    }
   ],
   "source": [
    "%reload_ext autoreload\n",
    "%autoreload 2\n",
    "import matplotlib.pyplot as plt\n",
    "import tensorly.kruskal_tensor as tl_kruskal\n",
    "import tensorly.random as tl_rand\n",
    "import numpy as np\n",
    "from timeit import default_timer as timer\n",
    "\n",
    "from cpd_mwu import CPD_MWU"
   ]
  },
  {
   "cell_type": "code",
   "execution_count": 2,
   "metadata": {},
   "outputs": [],
   "source": [
    "# Set up\n",
    "lamb = 0.001\n",
    "eps = 0.05 # 1/N where N = # interations\n",
    "shape = (300,300,300)\n",
    "nu = 2\n",
    "rank = 5  \n",
    "num_iterations = 5000"
   ]
  },
  {
   "cell_type": "code",
   "execution_count": 3,
   "metadata": {},
   "outputs": [],
   "source": [
    "# Run experiment for sketching with weight update\n",
    "sketching_rates = list(np.linspace(10**(-3), 10**(-1), 4)) + [1]\n",
    "sketch_with_weight_update_error = np.array([0.0] * 401)\n",
    "\n",
    "# Generate random latent factors\n",
    "F = np.array(tl_rand.random_kruskal(shape=shape, rank=rank, full=False, random_state=np.random.RandomState(seed=0)))\n",
    "X = tl_kruskal.kruskal_to_tensor(F)\n",
    "\n",
    "# start = time.time()\n",
    "# A,B,C, error = CPD_MWU(X, F, sketching_rates, lamb, eps, nu, rank, True, num_iterations)\n",
    "# end = time.time()\n",
    "# sketch_with_weight_update_error += error\n",
    "    \n",
    "# Print out total time\n",
    "# print(\"Total time for 1 iterations:\", end-start)\n"
   ]
  },
  {
   "cell_type": "code",
   "execution_count": 4,
   "metadata": {},
   "outputs": [
    {
     "name": "stdout",
     "output_type": "stream",
     "text": [
      "0.0\n"
     ]
    },
    {
     "ename": "NameError",
     "evalue": "name 'error' is not defined",
     "output_type": "error",
     "traceback": [
      "\u001b[1;31m---------------------------------------------------------------------------\u001b[0m",
      "\u001b[1;31mNameError\u001b[0m                                 Traceback (most recent call last)",
      "\u001b[1;32m<ipython-input-4-09bb54333fef>\u001b[0m in \u001b[0;36m<module>\u001b[1;34m\u001b[0m\n\u001b[0;32m      1\u001b[0m \u001b[0mprint\u001b[0m\u001b[1;33m(\u001b[0m\u001b[0msketch_with_weight_update_error\u001b[0m\u001b[1;33m[\u001b[0m\u001b[1;36m0\u001b[0m\u001b[1;33m]\u001b[0m\u001b[1;33m)\u001b[0m\u001b[1;33m\u001b[0m\u001b[1;33m\u001b[0m\u001b[0m\n\u001b[0;32m      2\u001b[0m \u001b[0mx\u001b[0m \u001b[1;33m=\u001b[0m \u001b[0mrange\u001b[0m\u001b[1;33m(\u001b[0m\u001b[0mnum_iterations\u001b[0m\u001b[1;33m+\u001b[0m\u001b[1;36m1\u001b[0m\u001b[1;33m)\u001b[0m\u001b[1;33m\u001b[0m\u001b[1;33m\u001b[0m\u001b[0m\n\u001b[1;32m----> 3\u001b[1;33m \u001b[0mplt\u001b[0m\u001b[1;33m.\u001b[0m\u001b[0mplot\u001b[0m\u001b[1;33m(\u001b[0m\u001b[0mx\u001b[0m\u001b[1;33m,\u001b[0m \u001b[0merror\u001b[0m\u001b[1;33m)\u001b[0m\u001b[1;33m\u001b[0m\u001b[1;33m\u001b[0m\u001b[0m\n\u001b[0m",
      "\u001b[1;31mNameError\u001b[0m: name 'error' is not defined"
     ]
    }
   ],
   "source": [
    "print(sketch_with_weight_update_error[0])\n",
    "x = range(num_iterations+1)\n",
    "plt.plot(x, error)"
   ]
  },
  {
   "cell_type": "code",
   "execution_count": 4,
   "metadata": {},
   "outputs": [],
   "source": [
    "import statistics\n",
    "from helper import norm\n",
    "# Time norm\n",
    "n = []\n",
    "\n",
    "for i in range(100):\n",
    "    start = timer()\n",
    "    l = norm(X)\n",
    "    end = timer()\n",
    "    n.append(end-start)\n",
    "\n",
    "mean_norm = statistics.mean(n)\n",
    "var_norm = statistics.variance(n)"
   ]
  },
  {
   "cell_type": "code",
   "execution_count": 5,
   "metadata": {},
   "outputs": [],
   "source": [
    "# Time norm\n",
    "n = []\n",
    "\n",
    "for i in range(100):\n",
    "    start = timer()\n",
    "    weights = np.array([1] * len(sketching_rates)) / (len(sketching_rates))\n",
    "    end = timer()\n",
    "    n.append(end-start)\n",
    "\n",
    "mean_w = statistics.mean(n)\n",
    "var_w = statistics.variance(n)"
   ]
  },
  {
   "cell_type": "code",
   "execution_count": 6,
   "metadata": {},
   "outputs": [],
   "source": [
    "from helper import rand_init\n",
    "\n",
    "# Time norm\n",
    "n = []\n",
    "\n",
    "for i in range(100):\n",
    "    start = timer()\n",
    "    dim_1, dim_2, dim_3 = X.shape\n",
    "    weights = np.array([1] * len(sketching_rates)) / (len(sketching_rates))\n",
    "    end = timer()\n",
    "    n.append(end-start)\n",
    "\n",
    "mean_rand = statistics.mean(n)\n",
    "var_rand = statistics.variance(n)"
   ]
  },
  {
   "cell_type": "code",
   "execution_count": 7,
   "metadata": {},
   "outputs": [
    {
     "data": {
      "text/plain": [
       "<ErrorbarContainer object of 3 artists>"
      ]
     },
     "execution_count": 7,
     "metadata": {},
     "output_type": "execute_result"
    },
    {
     "data": {
      "image/png": "[encoded data removed]",
      "text/plain": [
       "<Figure size 432x288 with 1 Axes>"
      ]
     },
     "metadata": {
      "needs_background": "light"
     },
     "output_type": "display_data"
    }
   ],
   "source": [
    "x = ['norm', 'weights', 'rand_init']\n",
    "y = [mean_norm, mean_w, mean_rand]\n",
    "var = [var_norm, var_w, var_rand]\n",
    "plt.ylabel('secs')\n",
    "plt.title('Average timing for each function over 100 runs')\n",
    "plt.errorbar(x,y, var,linestyle='None', marker='^')"
   ]
  },
  {
   "cell_type": "code",
   "execution_count": 8,
   "metadata": {},
   "outputs": [
    {
     "name": "stdout",
     "output_type": "stream",
     "text": [
      "2.1760000000980995e-05\n",
      "4.88640000009255e-06\n",
      "3.111005091268633e-12\n"
     ]
    }
   ],
   "source": [
    "from helper import sample\n",
    "from helper import rand_init\n",
    "A, B, C = rand_init(dim_1, rank), rand_init(dim_2, rank), rand_init(dim_3, rank)\n",
    "n= []\n",
    "\n",
    "for i in range(100):\n",
    "    start = timer()\n",
    "    s = sample(sketching_rates, weights)\n",
    "    end = timer()\n",
    "    n.append(end-start)\n",
    "\n",
    "mean_sample = statistics.mean(n)\n",
    "var_sample = statistics.variance(n)\n",
    "\n",
    "print(max(n))\n",
    "print(mean_sample)\n",
    "print(var_sample)"
   ]
  },
  {
   "cell_type": "code",
   "execution_count": 9,
   "metadata": {},
   "outputs": [
    {
     "name": "stdout",
     "output_type": "stream",
     "text": [
      "1.1323883949999995\n",
      "0.35966785942000007\n",
      "0.10181862862399314\n"
     ]
    }
   ],
   "source": [
    "from helper import update_factors\n",
    "n= []\n",
    "\n",
    "for i in range(100):\n",
    "    start = timer()\n",
    "    s = sample(sketching_rates, weights)\n",
    "    A,B,C = update_factors(A,B,C, X, lamb, s, rank)\n",
    "    end = timer()\n",
    "    n.append(end-start)\n",
    "\n",
    "mean_up = statistics.mean(n)\n",
    "var_up = statistics.variance(n)\n",
    "\n",
    "print(max(n))\n",
    "print(mean_up)\n",
    "print(var_up)"
   ]
  },
  {
   "cell_type": "code",
   "execution_count": 14,
   "metadata": {},
   "outputs": [
    {
     "name": "stdout",
     "output_type": "stream",
     "text": [
      "4.359506969999984\n",
      "4.2497273697699995\n",
      "0.001669871916196729\n"
     ]
    }
   ],
   "source": [
    "from helper import update_weights\n",
    "from numpy import eye\n",
    "n= []\n",
    "norm_x = norm(X)\n",
    "Id = eye(rank)\n",
    "for i in range(100):\n",
    "    start = timer()\n",
    "    update_weights(A, B, C, X, Id, norm_x, lamb, weights, sketching_rates, rank, nu, eps)\n",
    "    end = timer()\n",
    "    n.append(end-start)\n",
    "\n",
    "mean_weights = statistics.mean(n)\n",
    "var_weights = statistics.variance(n)\n",
    "\n",
    "\n",
    "print(max(n))\n",
    "print(mean_weights)\n",
    "print(var_weights)"
   ]
  },
  {
   "cell_type": "code",
   "execution_count": 58,
   "metadata": {},
   "outputs": [
    {
     "name": "stdout",
     "output_type": "stream",
     "text": [
      "0.25219343799972194\n",
      "0.23690773957996497\n",
      "2.115855284421237e-05\n"
     ]
    }
   ],
   "source": [
    "from helper import residual_error\n",
    "\n",
    "n= []\n",
    "error = []\n",
    "for i in range(100):\n",
    "    start = timer()\n",
    "    error.append(residual_error(X, norm_x, A,B,C))\n",
    "    end = timer()\n",
    "    n.append(end-start)\n",
    "\n",
    "mean_err = statistics.mean(n)\n",
    "var_err = statistics.variance(n)\n",
    "\n",
    "\n",
    "print(max(n))\n",
    "print(mean_err)\n",
    "print(var_err)"
   ]
  },
  {
   "cell_type": "code",
   "execution_count": 59,
   "metadata": {},
   "outputs": [
    {
     "data": {
      "text/plain": [
       "<ErrorbarContainer object of 3 artists>"
      ]
     },
     "execution_count": 59,
     "metadata": {},
     "output_type": "execute_result"
    },
    {
     "data": {
      "image/png": "[encoded data removed]",
      "text/plain": [
       "<Figure size 432x288 with 1 Axes>"
      ]
     },
     "metadata": {
      "needs_background": "light"
     },
     "output_type": "display_data"
    }
   ],
   "source": [
    "x = ['sample', 'sample+update', 'weight update', 'computing res_error']\n",
    "y = [mean_sample, mean_up, mean_weights, mean_err]\n",
    "var = [var_sample, var_up, var_weights, var_err]\n",
    "\n",
    "plt.ylabel('secs')\n",
    "plt.title('Average timing for each function over 100 runs')\n",
    "plt.errorbar(x,y, var, linestyle='None', marker='^')"
   ]
  },
  {
   "cell_type": "code",
   "execution_count": 60,
   "metadata": {},
   "outputs": [
    {
     "name": "stdout",
     "output_type": "stream",
     "text": [
      "[4.975989999982389e-06, 0.017806804600013493, 4.448841930340001, 0.23690773957996497]\n"
     ]
    }
   ],
   "source": [
    "print(y)"
   ]
  },
  {
   "cell_type": "code",
   "execution_count": 62,
   "metadata": {},
   "outputs": [],
   "source": [
    "n = []\n",
    "n1 = []\n",
    "n2 = []\n",
    "\n",
    "for i in range(100):\n",
    "    start = timer()\n",
    "    X_bar = tl_kruskal.kruskal_to_tensor([A,B,C])\n",
    "    end = timer()\n",
    "    n.append(end-start)\n",
    "    start = timer()\n",
    "    y = X-X_bar\n",
    "    end = timer()\n",
    "    n1.append(end-start)\n",
    "    start = timer()\n",
    "    l = norm(y)\n",
    "    end = timer()\n",
    "    n2.append(end-start)\n",
    "\n",
    "mean_tl = statistics.mean(n)\n",
    "var_tl = statistics.variance(n)\n",
    "\n",
    "mean_sub = statistics.mean(n1)\n",
    "var_sub = statistics.variance(n1)\n",
    "\n",
    "mean_norm = statistics.mean(n2)\n",
    "var_norm = statistics.variance(n2)"
   ]
  },
  {
   "cell_type": "code",
   "execution_count": 63,
   "metadata": {},
   "outputs": [
    {
     "data": {
      "text/plain": [
       "<ErrorbarContainer object of 3 artists>"
      ]
     },
     "execution_count": 63,
     "metadata": {},
     "output_type": "execute_result"
    },
    {
     "data": {
      "image/png": "[encoded data removed]",
      "text/plain": [
       "<Figure size 432x288 with 1 Axes>"
      ]
     },
     "metadata": {
      "needs_background": "light"
     },
     "output_type": "display_data"
    }
   ],
   "source": [
    "x = ['kruskal2tensor', 'subtract', 'norm']\n",
    "y = [mean_tl, mean_sub, mean_norm]\n",
    "var = [var_tl, var_sub, var_norm]\n",
    "\n",
    "plt.ylabel('secs')\n",
    "plt.title('Average timing for each function over 100 runs')\n",
    "plt.errorbar(x,y, var, linestyle='None', marker='^')"
   ]
  },
  {
   "cell_type": "code",
   "execution_count": 64,
   "metadata": {},
   "outputs": [
    {
     "name": "stdout",
     "output_type": "stream",
     "text": [
      "[0.15566575317999196, 0.07335510821998469, 0.007550673589985308]\n",
      "0.23657153498996195\n"
     ]
    }
   ],
   "source": [
    "print(y)\n",
    "print(sum(y))"
   ]
  },
  {
   "cell_type": "code",
   "execution_count": 42,
   "metadata": {},
   "outputs": [
    {
     "name": "stdout",
     "output_type": "stream",
     "text": [
      "[0.0002337342599275871, 0.015322681370125792, 0.002805643040155701, 0.04837925220017496]\n",
      "0.06674131087038404\n"
     ]
    },
    {
     "data": {
      "image/png": "[encoded data removed]",
      "text/plain": [
       "<Figure size 432x288 with 1 Axes>"
      ]
     },
     "metadata": {
      "needs_background": "light"
     },
     "output_type": "display_data"
    }
   ],
   "source": [
    "import tensorly.tenalg as tl_alg\n",
    "import tensorly.base as tl_base\n",
    "from helper import generate_sketch_indices\n",
    "from numpy import eye\n",
    "from numpy.linalg import pinv, norm\n",
    "\n",
    "# Set up\n",
    "lamb = 0.001\n",
    "eps = 0.05 # 1/N where N = # interations\n",
    "shape = (300,300,300)\n",
    "nu = 2\n",
    "rank = 5  \n",
    "num_iterations = 5000\n",
    "\n",
    "A, B, C = rand_init(300, rank), rand_init(300, rank), rand_init(300, rank)\n",
    "# Run experiment for sketching with weight update\n",
    "sketching_rates = list(np.linspace(10**(-3), 10**(-1), 4)) + [1]\n",
    "sketch_with_weight_update_error = np.array([0.0] * 401)\n",
    "\n",
    "# Generate random latent factors\n",
    "F = np.array(tl_rand.random_kruskal(shape=shape, rank=rank, full=False, random_state=np.random.RandomState(seed=0)))\n",
    "X = tl_kruskal.kruskal_to_tensor(F)\n",
    "\n",
    "n = []\n",
    "n1 = []\n",
    "n2 = []\n",
    "n3 = []\n",
    "Id = eye(rank)\n",
    "\n",
    "for i in range(100):\n",
    "    s = sample(sketching_rates, weights)\n",
    "    # unfold\n",
    "    start = timer()\n",
    "    X_unfold = tl_base.unfold(X, 0)\n",
    "    end = timer()\n",
    "    n.append(end-start)\n",
    "    \n",
    "    # Generate sketch indices\n",
    "    start = timer()\n",
    "    dim_1, dim_2 = X_unfold.shape\n",
    "    idx = generate_sketch_indices(s, dim_2)\n",
    "    end = timer()\n",
    "    n1.append(end-start)\n",
    "    \n",
    "    # Compute khatri rao\n",
    "    start = timer()\n",
    "    M = (tl_alg.khatri_rao([A, B, C], skip_matrix=0).T)[:, idx]\n",
    "    end = timer()\n",
    "    n2.append(end-start)\n",
    "    \n",
    "    # Update A\n",
    "    start = timer()\n",
    "    C = (lamb * C + X_unfold[:, idx] @ M.T) @ pinv(M @ M.T + lamb * Id)\n",
    "    end = timer()\n",
    "    n3.append(end-start)\n",
    "\n",
    "\n",
    "mean_uf = statistics.mean(n)\n",
    "var_uf = statistics.variance(n)\n",
    "\n",
    "mean_gs = statistics.mean(n1)\n",
    "var_gs = statistics.variance(n1)\n",
    "\n",
    "mean_kr = statistics.mean(n2)\n",
    "var_kr = statistics.variance(n2)\n",
    "\n",
    "mean_up = statistics.mean(n3)\n",
    "var_up = statistics.variance(n3)\n",
    "\n",
    "x = ['unfold', 'generate sketch', 'Khatri', 'Update A']\n",
    "y = [mean_uf, mean_gs, mean_kr, mean_up]\n",
    "var = [var_uf, var_gs, var_kr, mean_up]\n",
    "\n",
    "plt.ylabel('secs')\n",
    "plt.title('Average timing for updating A over 100 runs')\n",
    "plt.errorbar(x,y, var, linestyle='None', marker='^')\n",
    "\n",
    "print(y)\n",
    "print(sum(y))"
   ]
  },
  {
   "cell_type": "code",
   "execution_count": 44,
   "metadata": {},
   "outputs": [
    {
     "name": "stdout",
     "output_type": "stream",
     "text": [
      "[0.11610387770011585, 0.016916510770170135, 0.003594535289776104, 0.06090464263976173]\n",
      "0.19751956639982382\n"
     ]
    },
    {
     "data": {
      "image/png": "[encoded data removed]",
      "text/plain": [
       "<Figure size 432x288 with 1 Axes>"
      ]
     },
     "metadata": {
      "needs_background": "light"
     },
     "output_type": "display_data"
    }
   ],
   "source": [
    "import tensorly.tenalg as tl_alg\n",
    "import tensorly.base as tl_base\n",
    "from helper import generate_sketch_indices\n",
    "from numpy import eye\n",
    "from numpy.linalg import pinv, norm\n",
    "\n",
    "# Set up\n",
    "lamb = 0.001\n",
    "eps = 0.05 # 1/N where N = # interations\n",
    "shape = (300,300,300)\n",
    "nu = 2\n",
    "rank = 5  \n",
    "num_iterations = 5000\n",
    "\n",
    "A, B, C = rand_init(300, rank), rand_init(300, rank), rand_init(300, rank)\n",
    "\n",
    "# Run experiment for sketching with weight update\n",
    "sketching_rates = list(np.linspace(10**(-3), 10**(-1), 4)) + [1]\n",
    "sketch_with_weight_update_error = np.array([0.0] * 401)\n",
    "\n",
    "# Generate random latent factors\n",
    "F = np.array(tl_rand.random_kruskal(shape=shape, rank=rank, full=False, random_state=np.random.RandomState(seed=0)))\n",
    "X = tl_kruskal.kruskal_to_tensor(F)\n",
    "\n",
    "n = []\n",
    "n1 = []\n",
    "n2 = []\n",
    "n3 = []\n",
    "Id = eye(rank)\n",
    "\n",
    "for i in range(100):\n",
    "    s = sample(sketching_rates, weights)\n",
    "    # unfold\n",
    "    start = timer()\n",
    "    X_unfold = tl_base.unfold(X, 1)\n",
    "    end = timer()\n",
    "    n.append(end-start)\n",
    "    \n",
    "    # Generate sketch indices\n",
    "    start = timer()\n",
    "    dim_1, dim_2 = X_unfold.shape\n",
    "    idx = generate_sketch_indices(s, dim_2)\n",
    "    end = timer()\n",
    "    n1.append(end-start)\n",
    "    \n",
    "    # Compute khatri rao\n",
    "    start = timer()\n",
    "    M = (tl_alg.khatri_rao([A, B, C], skip_matrix=1).T)[:, idx]\n",
    "    end = timer()\n",
    "    n2.append(end-start)\n",
    "    \n",
    "    # Update A\n",
    "    start = timer()\n",
    "    C = (lamb * C + X_unfold[:, idx] @ M.T) @ pinv(M @ M.T + lamb * Id)\n",
    "    end = timer()\n",
    "    n3.append(end-start)\n",
    "    \n",
    "\n",
    "mean_uf = statistics.mean(n)\n",
    "var_uf = statistics.variance(n)\n",
    "\n",
    "mean_gs = statistics.mean(n1)\n",
    "var_gs = statistics.variance(n1)\n",
    "\n",
    "mean_kr = statistics.mean(n2)\n",
    "var_kr = statistics.variance(n2)\n",
    "\n",
    "mean_up = statistics.mean(n3)\n",
    "var_up = statistics.variance(n3)\n",
    "\n",
    "x = ['unfold', 'generate sketch', 'Khatri', 'Update B']\n",
    "y = [mean_uf, mean_gs, mean_kr, mean_up]\n",
    "var = [var_uf, var_gs, var_kr, mean_up]\n",
    "\n",
    "plt.ylabel('secs')\n",
    "plt.title('Average timing for updating B over 100 runs')\n",
    "plt.errorbar(x,y, var, linestyle='None', marker='^')\n",
    "\n",
    "print(y)\n",
    "print(sum(y))"
   ]
  },
  {
   "cell_type": "code",
   "execution_count": 47,
   "metadata": {},
   "outputs": [
    {
     "name": "stdout",
     "output_type": "stream",
     "text": [
      "[0.0002572286399663426, 0.015668121180169692, 0.002804839850177814, 0.020091567900017253]\n",
      "0.0388217575703311\n"
     ]
    },
    {
     "data": {
      "text/plain": [
       "<ErrorbarContainer object of 3 artists>"
      ]
     },
     "execution_count": 47,
     "metadata": {},
     "output_type": "execute_result"
    },
    {
     "data": {
      "image/png": "[encoded data removed]",
      "text/plain": [
       "<Figure size 432x288 with 1 Axes>"
      ]
     },
     "metadata": {
      "needs_background": "light"
     },
     "output_type": "display_data"
    }
   ],
   "source": [
    "import tensorly.tenalg as tl_alg\n",
    "import tensorly.base as tl_base\n",
    "from helper import generate_sketch_indices\n",
    "from numpy import eye\n",
    "from numpy.linalg import pinv, norm\n",
    "\n",
    "# Set up\n",
    "lamb = 0.001\n",
    "eps = 0.05 # 1/N where N = # interations\n",
    "shape = (300,300,300)\n",
    "nu = 2\n",
    "rank = 5  \n",
    "num_iterations = 5000\n",
    "\n",
    "A, B, C = rand_init(300, rank), rand_init(300, rank), rand_init(300, rank)\n",
    "# Run experiment for sketching with weight update\n",
    "sketching_rates = list(np.linspace(10**(-3), 10**(-1), 4)) + [1]\n",
    "sketch_with_weight_update_error = np.array([0.0] * 401)\n",
    "\n",
    "# Generate random latent factors\n",
    "F = np.array(tl_rand.random_kruskal(shape=shape, rank=rank, full=False, random_state=np.random.RandomState(seed=0)))\n",
    "X = tl_kruskal.kruskal_to_tensor(F)\n",
    "\n",
    "n = []\n",
    "n1 = []\n",
    "n2 = []\n",
    "n3 = []\n",
    "Id = eye(rank)\n",
    "\n",
    "for i in range(100):\n",
    "    s = sample(sketching_rates, weights)\n",
    "    # unfold\n",
    "    start = timer()\n",
    "    X_unfold = tl_base.unfold(X, 2)\n",
    "    end = timer()\n",
    "    n.append(end-start)\n",
    "    \n",
    "    # Generate sketch indices\n",
    "    start = timer()\n",
    "    dim_1, dim_2 = X_unfold.shape\n",
    "    idx = generate_sketch_indices(s, dim_2)\n",
    "    end = timer()\n",
    "    n1.append(end-start)\n",
    "    \n",
    "    # Compute khatri rao\n",
    "    start = timer()\n",
    "    M = (tl_alg.khatri_rao([A, B, C], skip_matrix=2).T)[:, idx]\n",
    "    end = timer()\n",
    "    n2.append(end-start)\n",
    "    \n",
    "    # Update A\n",
    "    start = timer()\n",
    "    C = (lamb * C + X_unfold[:, idx] @ M.T) @ pinv(M @ M.T + lamb * Id)\n",
    "    end = timer()\n",
    "    n3.append(end-start)\n",
    "\n",
    "\n",
    "mean_uf = statistics.mean(n)\n",
    "var_uf = statistics.variance(n)\n",
    "\n",
    "mean_gs = statistics.mean(n1)\n",
    "var_gs = statistics.variance(n1)\n",
    "\n",
    "mean_kr = statistics.mean(n2)\n",
    "var_kr = statistics.variance(n2)\n",
    "\n",
    "mean_up = statistics.mean(n3)\n",
    "var_up = statistics.variance(n3)\n",
    "\n",
    "x = ['unfold', 'generate sketch', 'Khatri', 'Update C']\n",
    "y = [mean_uf, mean_gs, mean_kr, mean_up]\n",
    "var = [var_uf, var_gs, var_kr, mean_up]\n",
    "\n",
    "print(y)\n",
    "print(sum(y))\n",
    "plt.ylabel('secs')\n",
    "plt.title('Average timing for updating C over 100 runs')\n",
    "plt.errorbar(x,y, var, linestyle='None', marker='^')"
   ]
  },
  {
   "cell_type": "code",
   "execution_count": 36,
   "metadata": {},
   "outputs": [
    {
     "name": "stdout",
     "output_type": "stream",
     "text": [
      "[0.00024208944999145387, 0.015839039469994987, 0.0030523788099822012, 0.026283627980005803]\n",
      "0.045417135709974445\n"
     ]
    }
   ],
   "source": [
    "print(y)\n",
    " "
   ]
  },
  {
   "cell_type": "code",
   "execution_count": null,
   "metadata": {},
   "outputs": [],
   "source": []
  }
 ],
 "metadata": {
  "kernelspec": {
   "display_name": "Python 3",
   "language": "python",
   "name": "python3"
  },
  "language_info": {
   "codemirror_mode": {
    "name": "ipython",
    "version": 3
   },
   "file_extension": ".py",
   "mimetype": "text/x-python",
   "name": "python",
   "nbconvert_exporter": "python",
   "pygments_lexer": "ipython3",
   "version": "3.7.3"
  }
 },
 "nbformat": 4,
 "nbformat_minor": 2
}
